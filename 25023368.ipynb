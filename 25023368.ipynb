{
 "cells": [
  {
   "cell_type": "markdown",
   "id": "1729b762-d078-465d-a14e-b88d94f65b68",
   "metadata": {},
   "source": [
    "# Swap with XOR"
   ]
  },
  {
   "cell_type": "code",
   "execution_count": 15,
   "id": "5fa35619-f28b-4ddc-b542-4441cbf502ad",
   "metadata": {},
   "outputs": [
    {
     "name": "stdin",
     "output_type": "stream",
     "text": [
      "Enter 2 numbers:  2, 3\n"
     ]
    },
    {
     "name": "stdout",
     "output_type": "stream",
     "text": [
      "3 2\n"
     ]
    }
   ],
   "source": [
    "def swap():\n",
    "    a, b = map(int, input(\"Enter 2 numbers: \").split(\", \"))\n",
    "               \n",
    "    a = a^b\n",
    "    b = a^b\n",
    "    a = a^b\n",
    "\n",
    "    print(a, b)\n",
    "\n",
    "swap()\n",
    "    "
   ]
  },
  {
   "cell_type": "code",
   "execution_count": 16,
   "id": "e8fed91d-8bee-4cf0-a650-c31bc5ed8368",
   "metadata": {},
   "outputs": [],
   "source": [
    "# W3A3"
   ]
  },
  {
   "cell_type": "code",
   "execution_count": 18,
   "id": "55adcbdd-7526-4213-bc68-d71995f3956f",
   "metadata": {},
   "outputs": [
    {
     "name": "stdin",
     "output_type": "stream",
     "text": [
      "Enter a number:  4\n"
     ]
    },
    {
     "name": "stdout",
     "output_type": "stream",
     "text": [
      "4 là bội của 2\n"
     ]
    }
   ],
   "source": [
    "number = int(input(\"Enter a number: \"))\n",
    "\n",
    "if (number & (number - 1) == 0):\n",
    "    print(f\"{number} là bội của 2\")\n",
    "\n"
   ]
  },
  {
   "cell_type": "markdown",
   "id": "9b089c2d-da1c-41b4-8683-a6d6c38ac8fd",
   "metadata": {},
   "source": [
    "# W3A4"
   ]
  },
  {
   "cell_type": "code",
   "execution_count": 21,
   "id": "eae99451-50ce-4097-9d6a-91ac877a637f",
   "metadata": {},
   "outputs": [
    {
     "name": "stdin",
     "output_type": "stream",
     "text": [
      "Enter your numbers:  1, 2\n"
     ]
    },
    {
     "name": "stdout",
     "output_type": "stream",
     "text": [
      "0\n"
     ]
    }
   ],
   "source": [
    "import math\n",
    "\n",
    "numb1, numb2 = map(float, input(\"Enter your numbers: \").split(\", \"))\n",
    "\n",
    "result  = math.floor(numb1 / numb2)\n",
    "print(result)"
   ]
  },
  {
   "cell_type": "markdown",
   "id": "8c745f74-00f3-4e3f-9a42-14f1e9bcc968",
   "metadata": {},
   "source": [
    "# W3A5"
   ]
  },
  {
   "cell_type": "code",
   "execution_count": 22,
   "id": "35cccdc5-3a82-481b-8494-f5b329d89d12",
   "metadata": {},
   "outputs": [
    {
     "name": "stdin",
     "output_type": "stream",
     "text": [
      "Enter your numbers:  1, 2\n"
     ]
    },
    {
     "name": "stdout",
     "output_type": "stream",
     "text": [
      "1\n"
     ]
    }
   ],
   "source": [
    "numb1, numb2 = map(float, input(\"Enter your numbers: \").split(\", \"))\n",
    "\n",
    "result  = math.ceil(numb1 / numb2)\n",
    "\n",
    "print(result)"
   ]
  },
  {
   "cell_type": "markdown",
   "id": "85a0227a-f9a6-4c96-9cb6-3a7a325cc766",
   "metadata": {},
   "source": [
    "# W3A6"
   ]
  },
  {
   "cell_type": "code",
   "execution_count": 23,
   "id": "265cb1d3-8fd3-4a3a-be84-eaedaf51b26a",
   "metadata": {},
   "outputs": [
    {
     "name": "stdin",
     "output_type": "stream",
     "text": [
      "Enter a number:  3\n"
     ]
    },
    {
     "name": "stdout",
     "output_type": "stream",
     "text": [
      "Odd\n"
     ]
    }
   ],
   "source": [
    "numb = int(input(\"Enter a number: \"))\n",
    "\n",
    "if numb % 2 == 0:\n",
    "    print(\"Even\")\n",
    "else:\n",
    "    print(\"Odd\")\n",
    "    "
   ]
  },
  {
   "cell_type": "markdown",
   "id": "abc19f46-405d-408d-abcc-aca02db229b1",
   "metadata": {},
   "source": [
    "# W3A7"
   ]
  },
  {
   "cell_type": "code",
   "execution_count": null,
   "id": "6d29cc08-fc22-4576-a2d2-6e911f31eb93",
   "metadata": {},
   "outputs": [],
   "source": [
    "numb1, numb2 = map(float, input(\"Enter your numbers: \").split(\", \"))\n",
    "\n",
    "if (numb1 < 0 and numb2 < 0):\n",
    "    print(\"Yes\")\n",
    "else:\n",
    "    print(\"No\")"
   ]
  },
  {
   "cell_type": "markdown",
   "id": "c31452fe-d146-4543-a0fb-e25207acfdc2",
   "metadata": {},
   "source": [
    "# W3A8"
   ]
  },
  {
   "cell_type": "code",
   "execution_count": 24,
   "id": "d1eb16d1-04ad-4530-9981-116e2ba6350e",
   "metadata": {},
   "outputs": [
    {
     "name": "stdin",
     "output_type": "stream",
     "text": [
      "Write something:  ddsafasdfdsafas\n",
      "Write something:  dfasdfd\n"
     ]
    },
    {
     "name": "stdout",
     "output_type": "stream",
     "text": [
      "True\n"
     ]
    }
   ],
   "source": [
    "string1 = input(\"Write something: \")\n",
    "string2 = input(\"Write something: \")\n",
    "\n",
    "print(len(string1) > len(string2))"
   ]
  },
  {
   "cell_type": "markdown",
   "id": "829a17d0-5812-4e85-a799-51754280249d",
   "metadata": {},
   "source": [
    "# W3A9"
   ]
  },
  {
   "cell_type": "code",
   "execution_count": null,
   "id": "6100455e-5f21-43af-9f43-1a70831233f2",
   "metadata": {},
   "outputs": [],
   "source": [
    "a, b, c = map(float, input(\"Enter the 3 sides of triangles: \").split(\", \"))\n",
    "\n",
    "if (a + b > c and a + c > b and b + c > a):\n",
    "    print(\"Yes\")\n",
    "else:\n",
    "    print(\"No\")\n"
   ]
  },
  {
   "cell_type": "markdown",
   "id": "82d326dd-d163-45a5-a40f-1eea853414f7",
   "metadata": {},
   "source": [
    "# W3A10"
   ]
  },
  {
   "cell_type": "code",
   "execution_count": 26,
   "id": "34d0d25c-c08a-49a7-820f-113f3df0a9ab",
   "metadata": {},
   "outputs": [
    {
     "name": "stdin",
     "output_type": "stream",
     "text": [
      "Enter the 4 numbers:  2, 3, 4, 5\n"
     ]
    },
    {
     "name": "stdout",
     "output_type": "stream",
     "text": [
      "5.0\n"
     ]
    }
   ],
   "source": [
    "a, b, c, d = map(float, input(\"Enter the 4 numbers: \").split(\", \"))\n",
    "\n",
    "maxVal = max(a, b, c, d)\n",
    "\n",
    "print(maxVal)\n"
   ]
  },
  {
   "cell_type": "code",
   "execution_count": null,
   "id": "b98428dc-6c0d-4188-91f8-ef01295491c8",
   "metadata": {},
   "outputs": [],
   "source": []
  }
 ],
 "metadata": {
  "kernelspec": {
   "display_name": "Python 3 (ipykernel)",
   "language": "python",
   "name": "python3"
  },
  "language_info": {
   "codemirror_mode": {
    "name": "ipython",
    "version": 3
   },
   "file_extension": ".py",
   "mimetype": "text/x-python",
   "name": "python",
   "nbconvert_exporter": "python",
   "pygments_lexer": "ipython3",
   "version": "3.13.5"
  }
 },
 "nbformat": 4,
 "nbformat_minor": 5
}
