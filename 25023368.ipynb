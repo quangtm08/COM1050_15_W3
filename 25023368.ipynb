{
 "cells": [
  {
   "cell_type": "markdown",
   "id": "1729b762-d078-465d-a14e-b88d94f65b68",
   "metadata": {},
   "source": [
    "# Swap with XOR"
   ]
  },
  {
   "cell_type": "code",
   "execution_count": 15,
   "id": "5fa35619-f28b-4ddc-b542-4441cbf502ad",
   "metadata": {},
   "outputs": [
    {
     "name": "stdin",
     "output_type": "stream",
     "text": [
      "Enter 2 numbers:  2, 3\n"
     ]
    },
    {
     "name": "stdout",
     "output_type": "stream",
     "text": [
      "3 2\n"
     ]
    }
   ],
   "source": [
    "def swap():\n",
    "    a, b = map(int, input(\"Enter 2 numbers: \").split(\", \"))\n",
    "               \n",
    "    a = a^b\n",
    "    b = a^b\n",
    "    a = a^b\n",
    "\n",
    "    print(a, b)\n",
    "\n",
    "swap()\n",
    "    "
   ]
  },
  {
   "cell_type": "code",
   "execution_count": 8,
   "id": "e8fed91d-8bee-4cf0-a650-c31bc5ed8368",
   "metadata": {},
   "outputs": [
    {
     "data": {
      "text/plain": [
       "61"
      ]
     },
     "execution_count": 8,
     "metadata": {},
     "output_type": "execute_result"
    }
   ],
   "source": []
  },
  {
   "cell_type": "markdown",
   "id": "cacb05ae-dbed-4040-a462-8786235d601e",
   "metadata": {},
   "source": []
  }
 ],
 "metadata": {
  "kernelspec": {
   "display_name": "Python 3 (ipykernel)",
   "language": "python",
   "name": "python3"
  },
  "language_info": {
   "codemirror_mode": {
    "name": "ipython",
    "version": 3
   },
   "file_extension": ".py",
   "mimetype": "text/x-python",
   "name": "python",
   "nbconvert_exporter": "python",
   "pygments_lexer": "ipython3",
   "version": "3.13.5"
  }
 },
 "nbformat": 4,
 "nbformat_minor": 5
}
