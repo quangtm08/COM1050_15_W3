{
 "cells": [
  {
   "cell_type": "markdown",
   "id": "1729b762-d078-465d-a14e-b88d94f65b68",
   "metadata": {},
   "source": [
    "# Swap with XOR"
   ]
  },
  {
   "cell_type": "code",
   "execution_count": 15,
   "id": "5fa35619-f28b-4ddc-b542-4441cbf502ad",
   "metadata": {},
   "outputs": [
    {
     "name": "stdin",
     "output_type": "stream",
     "text": [
      "Enter 2 numbers:  2, 3\n"
     ]
    },
    {
     "name": "stdout",
     "output_type": "stream",
     "text": [
      "3 2\n"
     ]
    }
   ],
   "source": [
    "def swap():\n",
    "    a, b = map(int, input(\"Enter 2 numbers: \").split(\", \"))\n",
    "               \n",
    "    a = a^b\n",
    "    b = a^b\n",
    "    a = a^b\n",
    "\n",
    "    print(a, b)\n",
    "\n",
    "swap()"
   ]
  },
  {
   "cell_type": "markdown",
   "id": "4827f8bb-c6f5-4846-8a9a-9374593b2566",
   "metadata": {},
   "source": [
    "# W3A3"
   ]
  },
  {
   "cell_type": "code",
   "execution_count": 29,
   "id": "55adcbdd-7526-4213-bc68-d71995f3956f",
   "metadata": {},
   "outputs": [
    {
     "name": "stdin",
     "output_type": "stream",
     "text": [
      "Enter a number:  dfafdsf\n"
     ]
    },
    {
     "name": "stdout",
     "output_type": "stream",
     "text": [
      "Invalid\n"
     ]
    }
   ],
   "source": [
    "try:\n",
    "    number = int(input(\"Enter a number: \"))\n",
    "    if (number & (number - 1) == 0):\n",
    "        print(f\"{number} là bội của 2\")\n",
    "except:\n",
    "    print(\"Invalid\")\n",
    "\n"
   ]
  },
  {
   "cell_type": "markdown",
   "id": "9b089c2d-da1c-41b4-8683-a6d6c38ac8fd",
   "metadata": {},
   "source": [
    "# W3A4"
   ]
  },
  {
   "cell_type": "code",
   "execution_count": 34,
   "id": "eae99451-50ce-4097-9d6a-91ac877a637f",
   "metadata": {},
   "outputs": [
    {
     "name": "stdin",
     "output_type": "stream",
     "text": [
      "Enter your numbers:  1, 2\n"
     ]
    },
    {
     "name": "stdout",
     "output_type": "stream",
     "text": [
      "0\n"
     ]
    }
   ],
   "source": [
    "import math\n",
    "\n",
    "try:\n",
    "    numb1, numb2 = map(float, input(\"Enter your numbers: \").split(\", \"))\n",
    "    result  = math.floor(numb1 / numb2)\n",
    "    print(result)\n",
    "except ZeroDivisionError:\n",
    "    print(\"Cant' divide for zero\")\n",
    "except:\n",
    "    print(\"Invalid\")\n",
    "\n"
   ]
  },
  {
   "cell_type": "markdown",
   "id": "8c745f74-00f3-4e3f-9a42-14f1e9bcc968",
   "metadata": {},
   "source": [
    "# W3A5"
   ]
  },
  {
   "cell_type": "code",
   "execution_count": 22,
   "id": "35cccdc5-3a82-481b-8494-f5b329d89d12",
   "metadata": {},
   "outputs": [
    {
     "name": "stdin",
     "output_type": "stream",
     "text": [
      "Enter your numbers:  1, 2\n"
     ]
    },
    {
     "name": "stdout",
     "output_type": "stream",
     "text": [
      "1\n"
     ]
    }
   ],
   "source": [
    "try:\n",
    "    numb1, numb2 = map(float, input(\"Enter your numbers: \").split(\", \"))\n",
    "    result  = math.ceil(numb1 / numb2)\n",
    "    print(result)\n",
    "except ZeroDivisionError:\n",
    "    print(\"Cant' divide for zero\")\n",
    "except:\n",
    "    print(\"Invalid\")"
   ]
  },
  {
   "cell_type": "markdown",
   "id": "85a0227a-f9a6-4c96-9cb6-3a7a325cc766",
   "metadata": {},
   "source": [
    "# W3A6"
   ]
  },
  {
   "cell_type": "code",
   "execution_count": 35,
   "id": "265cb1d3-8fd3-4a3a-be84-eaedaf51b26a",
   "metadata": {},
   "outputs": [
    {
     "name": "stdin",
     "output_type": "stream",
     "text": [
      "Enter a number:  4\n"
     ]
    },
    {
     "name": "stdout",
     "output_type": "stream",
     "text": [
      "Even\n"
     ]
    }
   ],
   "source": [
    "try:\n",
    "    numb = int(input(\"Enter a number: \"))\n",
    "except:\n",
    "    print(\"Invalid\")\n",
    "    \n",
    "if numb % 2 == 0:\n",
    "    print(\"Even\")\n",
    "else:\n",
    "    print(\"Odd\")\n",
    "    "
   ]
  },
  {
   "cell_type": "markdown",
   "id": "abc19f46-405d-408d-abcc-aca02db229b1",
   "metadata": {},
   "source": [
    "# W3A7"
   ]
  },
  {
   "cell_type": "code",
   "execution_count": null,
   "id": "6d29cc08-fc22-4576-a2d2-6e911f31eb93",
   "metadata": {},
   "outputs": [],
   "source": [
    "try: \n",
    "    numb1, numb2 = map(float, input(\"Enter your numbers: \").split(\", \"))\n",
    "except:\n",
    "    print(\"Invalid\")\n",
    "\n",
    "if (numb1 < 0 and numb2 < 0):\n",
    "    print(\"Yes\")\n",
    "else:\n",
    "    print(\"No\")"
   ]
  },
  {
   "cell_type": "markdown",
   "id": "c31452fe-d146-4543-a0fb-e25207acfdc2",
   "metadata": {},
   "source": [
    "# W3A8"
   ]
  },
  {
   "cell_type": "code",
   "execution_count": 24,
   "id": "d1eb16d1-04ad-4530-9981-116e2ba6350e",
   "metadata": {},
   "outputs": [
    {
     "name": "stdin",
     "output_type": "stream",
     "text": [
      "Write something:  ddsafasdfdsafas\n",
      "Write something:  dfasdfd\n"
     ]
    },
    {
     "name": "stdout",
     "output_type": "stream",
     "text": [
      "True\n"
     ]
    }
   ],
   "source": [
    "string1 = input(\"Write something: \")\n",
    "string2 = input(\"Write something: \")\n",
    "\n",
    "print(len(string1) > len(string2))"
   ]
  },
  {
   "cell_type": "markdown",
   "id": "829a17d0-5812-4e85-a799-51754280249d",
   "metadata": {},
   "source": [
    "# W3A9"
   ]
  },
  {
   "cell_type": "code",
   "execution_count": 43,
   "id": "6100455e-5f21-43af-9f43-1a70831233f2",
   "metadata": {},
   "outputs": [
    {
     "name": "stdin",
     "output_type": "stream",
     "text": [
      "Enter the 3 sides of triangles:  1, 2, 3\n"
     ]
    },
    {
     "name": "stdout",
     "output_type": "stream",
     "text": [
      "No\n"
     ]
    }
   ],
   "source": [
    "def isTriangle():\n",
    "    try:\n",
    "        a, b, c = map(float, input(\"Enter the 3 sides of triangles: \").split(\", \"))\n",
    "        if a + b > c and a + c > b and b + c > a:\n",
    "            print(\"Yes\")\n",
    "        else:\n",
    "            print(\"No\")\n",
    "    except:\n",
    "        print(\"Invalid\")\n"
   ]
  },
  {
   "cell_type": "markdown",
   "id": "82d326dd-d163-45a5-a40f-1eea853414f7",
   "metadata": {},
   "source": [
    "# W3A10"
   ]
  },
  {
   "cell_type": "code",
   "execution_count": 26,
   "id": "34d0d25c-c08a-49a7-820f-113f3df0a9ab",
   "metadata": {},
   "outputs": [
    {
     "name": "stdin",
     "output_type": "stream",
     "text": [
      "Enter the 4 numbers:  2, 3, 4, 5\n"
     ]
    },
    {
     "name": "stdout",
     "output_type": "stream",
     "text": [
      "5.0\n"
     ]
    }
   ],
   "source": [
    "a, b, c, d = map(float, input(\"Enter the 4 numbers: \").split(\", \"))\n",
    "\n",
    "maxVal = max(a, b, c, d)\n",
    "\n",
    "print(maxVal)\n"
   ]
  },
  {
   "cell_type": "markdown",
   "id": "4f53e776-b8d3-4755-ba9a-b2d9fec7ef30",
   "metadata": {},
   "source": [
    "# W3A11"
   ]
  },
  {
   "cell_type": "code",
   "execution_count": 49,
   "id": "7dc746a4-a331-4ae2-b0bd-411cbd03ee98",
   "metadata": {},
   "outputs": [
    {
     "name": "stdin",
     "output_type": "stream",
     "text": [
      "Enter the 3 sides of triangles:  2, 2, 1\n"
     ]
    },
    {
     "name": "stdout",
     "output_type": "stream",
     "text": [
      "Tam giác cân\n"
     ]
    }
   ],
   "source": [
    "try:\n",
    "    a, b, c = map(float, input(\"Enter the 3 sides of triangles: \").split(\", \"))\n",
    "    if a + b > c and a + c > b and b + c > a:\n",
    "        if a == b == c:\n",
    "            print(\"Tam giác dều\")\n",
    "        elif a == b or b == c or a == c:\n",
    "            print(\"Tam giác cân\")\n",
    "        else:\n",
    "            print(\"Tam giác thường\")\n",
    "    else:\n",
    "        print(\"Not a triangle\")\n",
    "except:\n",
    "    print(\"Invalid\")"
   ]
  },
  {
   "cell_type": "markdown",
   "id": "acfb9927-b900-4513-91c8-1dfffb952d0d",
   "metadata": {},
   "source": [
    "# W3A12"
   ]
  },
  {
   "cell_type": "code",
   "execution_count": 52,
   "id": "59d81794-28a1-44d1-a2c1-fa7c3e11b0fc",
   "metadata": {},
   "outputs": [
    {
     "name": "stdin",
     "output_type": "stream",
     "text": [
      "Enter a year:  1900\n"
     ]
    },
    {
     "name": "stdout",
     "output_type": "stream",
     "text": [
      "No\n"
     ]
    }
   ],
   "source": [
    "try:\n",
    "    year = int(input(\"Enter a year: \"))\n",
    "\n",
    "    if year % 4 == 0 and year % 100 != 0:\n",
    "        print(\"Yes\")\n",
    "    elif year % 400 == 0:\n",
    "        print(\"Yes\")\n",
    "    else:\n",
    "        print(\"No\")\n",
    "    \n",
    "except:\n",
    "    print(\"Invalid\")\n",
    "\n",
    "\n",
    "\n"
   ]
  },
  {
   "cell_type": "markdown",
   "id": "f79c049c-daeb-4f93-95e2-5ed0341b0a19",
   "metadata": {},
   "source": [
    "# W3A14"
   ]
  },
  {
   "cell_type": "code",
   "execution_count": 56,
   "id": "609fb8cd-8ac5-409c-9fbd-7227693cffea",
   "metadata": {},
   "outputs": [
    {
     "name": "stdin",
     "output_type": "stream",
     "text": [
      "Enter a, b for ax + b = 0:  2, 3\n"
     ]
    },
    {
     "name": "stdout",
     "output_type": "stream",
     "text": [
      "Phương trình có nghiệm duy nhất x = -1.50\n"
     ]
    }
   ],
   "source": [
    "try:\n",
    "    a, b = map(float, input(\"Enter a, b for ax + b = 0: \").split(\", \"))\n",
    "    if a == 0 and b == 0:\n",
    "        print(\"Vô số nghiệm\")\n",
    "    elif a == 0 and b != 0:\n",
    "        print(\"Vô nghiệm\")\n",
    "    else:\n",
    "        result = -b/a\n",
    "        print(f\"Phương trình có nghiệm duy nhất x = {result:.2f}\")\n",
    "except:\n",
    "    print(\"Invalid\")"
   ]
  },
  {
   "cell_type": "markdown",
   "id": "d2f56043-f3e3-4f7e-a076-681a25cc1149",
   "metadata": {},
   "source": [
    "# W3A15"
   ]
  },
  {
   "cell_type": "code",
   "execution_count": 59,
   "id": "f8061f74-06a0-4046-95f7-4c19151aca37",
   "metadata": {},
   "outputs": [
    {
     "name": "stdin",
     "output_type": "stream",
     "text": [
      "Nhập điểm:  2\n"
     ]
    },
    {
     "name": "stdout",
     "output_type": "stream",
     "text": [
      "Yếu\n"
     ]
    }
   ],
   "source": [
    "try:\n",
    "    score = float(input(\"Nhập điểm: \"))\n",
    "    if score > 10 or score < 0:\n",
    "        raise ValueError\n",
    "\n",
    "    if score >= 8:\n",
    "        print(\"Giỏi\")\n",
    "    elif score >= 6.5:\n",
    "        print(\"Khá\")\n",
    "    elif score >= 5:\n",
    "        print(\"Trung bình\")\n",
    "    else:\n",
    "        print(\"Yếu\")\n",
    "except:\n",
    "    print(\"Invalid\")"
   ]
  },
  {
   "cell_type": "markdown",
   "id": "e3ea22cc-30d8-401b-b71a-d60b90d00edc",
   "metadata": {},
   "source": [
    "# W3A16"
   ]
  },
  {
   "cell_type": "code",
   "execution_count": 76,
   "id": "317a98ef-4a44-4e6c-bea8-95f32ea4b0ba",
   "metadata": {},
   "outputs": [
    {
     "name": "stdin",
     "output_type": "stream",
     "text": [
      "Enter a number:  -2.7\n"
     ]
    },
    {
     "name": "stdout",
     "output_type": "stream",
     "text": [
      "-2 -3 -3\n"
     ]
    }
   ],
   "source": [
    "number = float(input(\"Enter a number: \"))\n",
    "\n",
    "if number >= 0:\n",
    "    roundDown = int(number)\n",
    "    roundUp = roundDown + 1 if number != roundDown else number\n",
    "else:\n",
    "    roundUp = int(number)\n",
    "    roundDown = roundUp - 1 if number != roundUp else number\n",
    "\n",
    "\n",
    "if abs(roundDown - number) < abs(roundUp - number):\n",
    "    roundToNearest = roundDown\n",
    "else:\n",
    "    roundToNearest = roundUp\n",
    "\n",
    "print(f\"{roundUp} {roundDown} {roundToNearest}\")"
   ]
  },
  {
   "cell_type": "markdown",
   "id": "f5ac5e71-ee30-4eea-8e1d-ef5319f20d37",
   "metadata": {},
   "source": [
    "# W3A17"
   ]
  },
  {
   "cell_type": "code",
   "execution_count": 81,
   "id": "0b3ff00e-1cd8-4e20-b010-b21c41a1477b",
   "metadata": {},
   "outputs": [
    {
     "name": "stdin",
     "output_type": "stream",
     "text": [
      "Enter your numbers:  1, 3, 5, 7\n"
     ]
    },
    {
     "name": "stdout",
     "output_type": "stream",
     "text": [
      "Không phải công bội\n"
     ]
    }
   ],
   "source": [
    "a, b, c, d = map(float, input(\"Enter your numbers: \").split(\", \"))\n",
    "\n",
    "if b % a != 0:\n",
    "    print(\"Không phải cấp số nhân\")\n",
    "else:\n",
    "    factor = b / a\n",
    "    if math.isclose(c, b * factor) and math.isclose(d, c * factor):\n",
    "        print(\"Là công bội\")\n",
    "    else:\n",
    "        print(\"Không phải công bội\")\n",
    "    \n",
    "\n"
   ]
  }
 ],
 "metadata": {
  "kernelspec": {
   "display_name": "Python 3 (ipykernel)",
   "language": "python",
   "name": "python3"
  },
  "language_info": {
   "codemirror_mode": {
    "name": "ipython",
    "version": 3
   },
   "file_extension": ".py",
   "mimetype": "text/x-python",
   "name": "python",
   "nbconvert_exporter": "python",
   "pygments_lexer": "ipython3",
   "version": "3.13.5"
  }
 },
 "nbformat": 4,
 "nbformat_minor": 5
}
